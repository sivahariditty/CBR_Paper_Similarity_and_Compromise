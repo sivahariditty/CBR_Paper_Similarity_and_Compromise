{
  "nbformat": 4,
  "nbformat_minor": 0,
  "metadata": {
    "colab": {
      "name": "CBR_Similarity_and_Compromise.ipynb",
      "provenance": [],
      "authorship_tag": "ABX9TyPxuU8bAhMm8EskW/GRLkaV",
      "include_colab_link": true
    },
    "kernelspec": {
      "name": "python3",
      "display_name": "Python 3"
    },
    "language_info": {
      "name": "python"
    }
  },
  "cells": [
    {
      "cell_type": "markdown",
      "metadata": {
        "id": "view-in-github",
        "colab_type": "text"
      },
      "source": [
        "<a href=\"https://colab.research.google.com/github/sivahariditty/CBR_Paper_Similarity_and_Compromise/blob/main/CBR_Similarity_and_Compromise.ipynb\" target=\"_parent\"><img src=\"https://colab.research.google.com/assets/colab-badge.svg\" alt=\"Open In Colab\"/></a>"
      ]
    },
    {
      "cell_type": "code",
      "execution_count": null,
      "metadata": {
        "id": "zU6IQEwcXjyR"
      },
      "outputs": [],
      "source": [
        "import pandas as pd"
      ]
    },
    {
      "cell_type": "code",
      "source": [
        "!pip install --upgrade xlrd"
      ],
      "metadata": {
        "colab": {
          "base_uri": "https://localhost:8080/",
          "height": 278
        },
        "id": "JGMSe9ONZpyj",
        "outputId": "6106e9fa-344c-435b-bc7b-46b4fc38b846"
      },
      "execution_count": null,
      "outputs": [
        {
          "output_type": "stream",
          "name": "stdout",
          "text": [
            "Requirement already satisfied: xlrd in /usr/local/lib/python3.7/dist-packages (1.1.0)\n",
            "Collecting xlrd\n",
            "  Downloading xlrd-2.0.1-py2.py3-none-any.whl (96 kB)\n",
            "\u001b[K     |████████████████████████████████| 96 kB 3.8 MB/s \n",
            "\u001b[?25hInstalling collected packages: xlrd\n",
            "  Attempting uninstall: xlrd\n",
            "    Found existing installation: xlrd 1.1.0\n",
            "    Uninstalling xlrd-1.1.0:\n",
            "      Successfully uninstalled xlrd-1.1.0\n",
            "Successfully installed xlrd-2.0.1\n"
          ]
        },
        {
          "output_type": "display_data",
          "data": {
            "application/vnd.colab-display-data+json": {
              "pip_warning": {
                "packages": [
                  "xlrd"
                ]
              }
            }
          },
          "metadata": {}
        }
      ]
    },
    {
      "cell_type": "code",
      "source": [
        "data = pd.read_excel('Camera_2.xls')"
      ],
      "metadata": {
        "id": "7I0AG0UoZPVF"
      },
      "execution_count": null,
      "outputs": []
    },
    {
      "cell_type": "code",
      "source": [
        "data.head()"
      ],
      "metadata": {
        "colab": {
          "base_uri": "https://localhost:8080/",
          "height": 206
        },
        "id": "jQUdzjjNZ8d6",
        "outputId": "9404b364-90eb-4f7c-b432-d517b5e0775e"
      },
      "execution_count": null,
      "outputs": [
        {
          "output_type": "execute_result",
          "data": {
            "text/plain": [
              "    Case Manufacturer           Model  Price ($)         Format  \\\n",
              "0  CASE0        Canon   Powershot S60        459        Compact   \n",
              "1  CASE1        Canon  Powershot Pro1        879       SLR-Like   \n",
              "2  CASE2        Canon        EOS-300D        871            SLR   \n",
              "3  CASE3        Canon  Powershot A310        156        Compact   \n",
              "4  CASE4        Canon  Powershot S500        443  Ultra Compact   \n",
              "\n",
              "   Resolution (M Pixels)  Optical Zoom (X)  Digital Zoom (X)  Weight (grams)  \\\n",
              "0                   5.00               3.6               4.1             300   \n",
              "1                   8.00               7.1               3.2             640   \n",
              "2                   6.29              10.0               0.0             645   \n",
              "3                   3.14               0.0               5.1             205   \n",
              "4                   5.00               3.0               4.1             215   \n",
              "\n",
              "    Storage Type  Storage Included (MB)  \n",
              "0  Compact Flash                   32.0  \n",
              "1  Compact Flash                   64.0  \n",
              "2  Compact Flash                    0.0  \n",
              "3  Compact Flash                    0.0  \n",
              "4  Compact Flash                   32.0  "
            ],
            "text/html": [
              "\n",
              "  <div id=\"df-9e1b6b90-1c8e-421a-8d55-bbf1ac6bcbff\">\n",
              "    <div class=\"colab-df-container\">\n",
              "      <div>\n",
              "<style scoped>\n",
              "    .dataframe tbody tr th:only-of-type {\n",
              "        vertical-align: middle;\n",
              "    }\n",
              "\n",
              "    .dataframe tbody tr th {\n",
              "        vertical-align: top;\n",
              "    }\n",
              "\n",
              "    .dataframe thead th {\n",
              "        text-align: right;\n",
              "    }\n",
              "</style>\n",
              "<table border=\"1\" class=\"dataframe\">\n",
              "  <thead>\n",
              "    <tr style=\"text-align: right;\">\n",
              "      <th></th>\n",
              "      <th>Case</th>\n",
              "      <th>Manufacturer</th>\n",
              "      <th>Model</th>\n",
              "      <th>Price ($)</th>\n",
              "      <th>Format</th>\n",
              "      <th>Resolution (M Pixels)</th>\n",
              "      <th>Optical Zoom (X)</th>\n",
              "      <th>Digital Zoom (X)</th>\n",
              "      <th>Weight (grams)</th>\n",
              "      <th>Storage Type</th>\n",
              "      <th>Storage Included (MB)</th>\n",
              "    </tr>\n",
              "  </thead>\n",
              "  <tbody>\n",
              "    <tr>\n",
              "      <th>0</th>\n",
              "      <td>CASE0</td>\n",
              "      <td>Canon</td>\n",
              "      <td>Powershot S60</td>\n",
              "      <td>459</td>\n",
              "      <td>Compact</td>\n",
              "      <td>5.00</td>\n",
              "      <td>3.6</td>\n",
              "      <td>4.1</td>\n",
              "      <td>300</td>\n",
              "      <td>Compact Flash</td>\n",
              "      <td>32.0</td>\n",
              "    </tr>\n",
              "    <tr>\n",
              "      <th>1</th>\n",
              "      <td>CASE1</td>\n",
              "      <td>Canon</td>\n",
              "      <td>Powershot Pro1</td>\n",
              "      <td>879</td>\n",
              "      <td>SLR-Like</td>\n",
              "      <td>8.00</td>\n",
              "      <td>7.1</td>\n",
              "      <td>3.2</td>\n",
              "      <td>640</td>\n",
              "      <td>Compact Flash</td>\n",
              "      <td>64.0</td>\n",
              "    </tr>\n",
              "    <tr>\n",
              "      <th>2</th>\n",
              "      <td>CASE2</td>\n",
              "      <td>Canon</td>\n",
              "      <td>EOS-300D</td>\n",
              "      <td>871</td>\n",
              "      <td>SLR</td>\n",
              "      <td>6.29</td>\n",
              "      <td>10.0</td>\n",
              "      <td>0.0</td>\n",
              "      <td>645</td>\n",
              "      <td>Compact Flash</td>\n",
              "      <td>0.0</td>\n",
              "    </tr>\n",
              "    <tr>\n",
              "      <th>3</th>\n",
              "      <td>CASE3</td>\n",
              "      <td>Canon</td>\n",
              "      <td>Powershot A310</td>\n",
              "      <td>156</td>\n",
              "      <td>Compact</td>\n",
              "      <td>3.14</td>\n",
              "      <td>0.0</td>\n",
              "      <td>5.1</td>\n",
              "      <td>205</td>\n",
              "      <td>Compact Flash</td>\n",
              "      <td>0.0</td>\n",
              "    </tr>\n",
              "    <tr>\n",
              "      <th>4</th>\n",
              "      <td>CASE4</td>\n",
              "      <td>Canon</td>\n",
              "      <td>Powershot S500</td>\n",
              "      <td>443</td>\n",
              "      <td>Ultra Compact</td>\n",
              "      <td>5.00</td>\n",
              "      <td>3.0</td>\n",
              "      <td>4.1</td>\n",
              "      <td>215</td>\n",
              "      <td>Compact Flash</td>\n",
              "      <td>32.0</td>\n",
              "    </tr>\n",
              "  </tbody>\n",
              "</table>\n",
              "</div>\n",
              "      <button class=\"colab-df-convert\" onclick=\"convertToInteractive('df-9e1b6b90-1c8e-421a-8d55-bbf1ac6bcbff')\"\n",
              "              title=\"Convert this dataframe to an interactive table.\"\n",
              "              style=\"display:none;\">\n",
              "        \n",
              "  <svg xmlns=\"http://www.w3.org/2000/svg\" height=\"24px\"viewBox=\"0 0 24 24\"\n",
              "       width=\"24px\">\n",
              "    <path d=\"M0 0h24v24H0V0z\" fill=\"none\"/>\n",
              "    <path d=\"M18.56 5.44l.94 2.06.94-2.06 2.06-.94-2.06-.94-.94-2.06-.94 2.06-2.06.94zm-11 1L8.5 8.5l.94-2.06 2.06-.94-2.06-.94L8.5 2.5l-.94 2.06-2.06.94zm10 10l.94 2.06.94-2.06 2.06-.94-2.06-.94-.94-2.06-.94 2.06-2.06.94z\"/><path d=\"M17.41 7.96l-1.37-1.37c-.4-.4-.92-.59-1.43-.59-.52 0-1.04.2-1.43.59L10.3 9.45l-7.72 7.72c-.78.78-.78 2.05 0 2.83L4 21.41c.39.39.9.59 1.41.59.51 0 1.02-.2 1.41-.59l7.78-7.78 2.81-2.81c.8-.78.8-2.07 0-2.86zM5.41 20L4 18.59l7.72-7.72 1.47 1.35L5.41 20z\"/>\n",
              "  </svg>\n",
              "      </button>\n",
              "      \n",
              "  <style>\n",
              "    .colab-df-container {\n",
              "      display:flex;\n",
              "      flex-wrap:wrap;\n",
              "      gap: 12px;\n",
              "    }\n",
              "\n",
              "    .colab-df-convert {\n",
              "      background-color: #E8F0FE;\n",
              "      border: none;\n",
              "      border-radius: 50%;\n",
              "      cursor: pointer;\n",
              "      display: none;\n",
              "      fill: #1967D2;\n",
              "      height: 32px;\n",
              "      padding: 0 0 0 0;\n",
              "      width: 32px;\n",
              "    }\n",
              "\n",
              "    .colab-df-convert:hover {\n",
              "      background-color: #E2EBFA;\n",
              "      box-shadow: 0px 1px 2px rgba(60, 64, 67, 0.3), 0px 1px 3px 1px rgba(60, 64, 67, 0.15);\n",
              "      fill: #174EA6;\n",
              "    }\n",
              "\n",
              "    [theme=dark] .colab-df-convert {\n",
              "      background-color: #3B4455;\n",
              "      fill: #D2E3FC;\n",
              "    }\n",
              "\n",
              "    [theme=dark] .colab-df-convert:hover {\n",
              "      background-color: #434B5C;\n",
              "      box-shadow: 0px 1px 3px 1px rgba(0, 0, 0, 0.15);\n",
              "      filter: drop-shadow(0px 1px 2px rgba(0, 0, 0, 0.3));\n",
              "      fill: #FFFFFF;\n",
              "    }\n",
              "  </style>\n",
              "\n",
              "      <script>\n",
              "        const buttonEl =\n",
              "          document.querySelector('#df-9e1b6b90-1c8e-421a-8d55-bbf1ac6bcbff button.colab-df-convert');\n",
              "        buttonEl.style.display =\n",
              "          google.colab.kernel.accessAllowed ? 'block' : 'none';\n",
              "\n",
              "        async function convertToInteractive(key) {\n",
              "          const element = document.querySelector('#df-9e1b6b90-1c8e-421a-8d55-bbf1ac6bcbff');\n",
              "          const dataTable =\n",
              "            await google.colab.kernel.invokeFunction('convertToInteractive',\n",
              "                                                     [key], {});\n",
              "          if (!dataTable) return;\n",
              "\n",
              "          const docLinkHtml = 'Like what you see? Visit the ' +\n",
              "            '<a target=\"_blank\" href=https://colab.research.google.com/notebooks/data_table.ipynb>data table notebook</a>'\n",
              "            + ' to learn more about interactive tables.';\n",
              "          element.innerHTML = '';\n",
              "          dataTable['output_type'] = 'display_data';\n",
              "          await google.colab.output.renderOutput(dataTable, element);\n",
              "          const docLink = document.createElement('div');\n",
              "          docLink.innerHTML = docLinkHtml;\n",
              "          element.appendChild(docLink);\n",
              "        }\n",
              "      </script>\n",
              "    </div>\n",
              "  </div>\n",
              "  "
            ]
          },
          "metadata": {},
          "execution_count": 8
        }
      ]
    },
    {
      "cell_type": "code",
      "source": [
        "data['Resolution (M Pixels)'].min()"
      ],
      "metadata": {
        "colab": {
          "base_uri": "https://localhost:8080/"
        },
        "id": "Z2QrWa5JcOKk",
        "outputId": "e5fa8310-7fde-4bd8-c145-ed03185e5183"
      },
      "execution_count": null,
      "outputs": [
        {
          "output_type": "execute_result",
          "data": {
            "text/plain": [
              "1.2"
            ]
          },
          "metadata": {},
          "execution_count": 11
        }
      ]
    },
    {
      "cell_type": "code",
      "source": [
        "def sim_mib(c,q,a,base):\n",
        "  sim = (c[a] - base[a].min())/(base[a].max() - base[a].min())\n",
        "  return sim\n"
      ],
      "metadata": {
        "id": "uerDmrOPbV-J"
      },
      "execution_count": null,
      "outputs": []
    },
    {
      "cell_type": "code",
      "source": [
        "def sim_lib(c,q,a,base):\n",
        "  sim = (base[a].max() - c[a])/(base[a].max() - base[a].min())\n",
        "  return sim"
      ],
      "metadata": {
        "id": "b96tOQvtqoIB"
      },
      "execution_count": 14,
      "outputs": []
    },
    {
      "cell_type": "code",
      "source": [
        "def sim_nib(c,q,a,base):\n",
        "  sim = 1 - (abs((c[a] - q[a]))/(base[a].max() - base[a].min())) \n",
        "  return sim"
      ],
      "metadata": {
        "id": "mUuFteXGrR1L"
      },
      "execution_count": 15,
      "outputs": []
    },
    {
      "cell_type": "code",
      "source": [
        "ab = []"
      ],
      "metadata": {
        "id": "sLabS5rEyWB7"
      },
      "execution_count": 16,
      "outputs": []
    },
    {
      "cell_type": "code",
      "source": [
        "ab.append([])"
      ],
      "metadata": {
        "id": "FI17ZMPyyhVY"
      },
      "execution_count": 18,
      "outputs": []
    },
    {
      "cell_type": "code",
      "source": [
        "ab = [1,2,3,4,5,6,7,8,9,0]"
      ],
      "metadata": {
        "id": "H_3au5dQ_Vno"
      },
      "execution_count": 34,
      "outputs": []
    },
    {
      "cell_type": "code",
      "source": [
        "def issubset(c1,c2,q):\n",
        "  sc1 = compromises(c1,q)\n",
        "  sc2 = compromises(c2,q)\n",
        "  return sc2.issubset(sc1)"
      ],
      "metadata": {
        "id": "FJsWKhwMEwCA"
      },
      "execution_count": 40,
      "outputs": []
    },
    {
      "cell_type": "code",
      "source": [
        "def isequal(c1,c2,q):\n",
        "  "
      ],
      "metadata": {
        "id": "3jjzpFNVGLO5"
      },
      "execution_count": null,
      "outputs": []
    },
    {
      "cell_type": "code",
      "source": [
        "def cdr(q,candidates):\n",
        "  rs = []\n",
        "  like = []\n",
        "  covered = []\n",
        "  i = 0\n",
        "  while len(rs) > 0 :\n",
        "    c1 = candidates.pop(0)\n",
        "    rs.append(c1)\n",
        "    like.append([c1])\n",
        "    covered.append(i)\n",
        "    for j,c2 in enumerate(candidates):\n",
        "      if(issubset(c1,c2,q)):\n",
        "        covered.append(j)\n",
        "      if(isequal(c1,c2,q)):\n",
        "        like[i].append(c2)\n",
        "    for k in covered:\n",
        "      del candidates[k]"
      ],
      "metadata": {
        "id": "3jgjlpoztmOj"
      },
      "execution_count": 39,
      "outputs": []
    }
  ]
}